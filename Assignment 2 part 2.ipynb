{
 "cells": [
  {
   "cell_type": "markdown",
   "id": "31d0a6ee",
   "metadata": {},
   "source": [
    "# (1) Write a program to print the maximum between two numbers. (one-line conditional statement)\n"
   ]
  },
  {
   "cell_type": "code",
   "execution_count": 19,
   "id": "6be45d53",
   "metadata": {},
   "outputs": [
    {
     "name": "stdout",
     "output_type": "stream",
     "text": [
      "enter a number20\n",
      "enter second number30\n",
      "maximum= 2nd\n"
     ]
    }
   ],
   "source": [
    "print(\"maximum= first\"if int(input(\"enter a number\")) > int(input(\"enter second number\")) else  \"maximum= 2nd\")"
   ]
  },
  {
   "cell_type": "markdown",
   "id": "245f230b",
   "metadata": {},
   "source": [
    "# 2) Write a program to find the maximum between three numbers.\n"
   ]
  },
  {
   "cell_type": "code",
   "execution_count": 21,
   "id": "7acf0ad1",
   "metadata": {},
   "outputs": [
    {
     "name": "stdout",
     "output_type": "stream",
     "text": [
      "50 is the biggest number\n"
     ]
    }
   ],
   "source": [
    "x= 30\n",
    "y= 20\n",
    "z= 50\n",
    "if x>z>y:\n",
    "    print(f\"{x} is the biggest number\")\n",
    "elif y>x>z:\n",
    "    print(f\"{y} is the biggest number\")\n",
    "else:\n",
    "    print(f\"{z} is the biggest number\")"
   ]
  },
  {
   "cell_type": "markdown",
   "id": "d96b074e",
   "metadata": {},
   "source": [
    "# 3) Write a program to check whether a number is negative, or positive\n"
   ]
  },
  {
   "cell_type": "code",
   "execution_count": 23,
   "id": "54388189",
   "metadata": {},
   "outputs": [
    {
     "name": "stdout",
     "output_type": "stream",
     "text": [
      "20is positive\n"
     ]
    }
   ],
   "source": [
    "x=20\n",
    "if x>0:\n",
    "    print(f\"{x}is positive\")\n",
    "else:\n",
    "    print(f\"{x} is negative\")"
   ]
  },
  {
   "cell_type": "markdown",
   "id": "a584fac6",
   "metadata": {},
   "source": [
    "# 4) Write a program to check whether a number is even or odd\n"
   ]
  },
  {
   "cell_type": "code",
   "execution_count": null,
   "id": "f162bdcf",
   "metadata": {},
   "outputs": [],
   "source": [
    "x=20\n",
    "if x%2==0:\n",
    "    print(f\"{x}is even\")\n",
    "else:\n",
    "    print(f\"{x} is odd\")"
   ]
  },
  {
   "cell_type": "markdown",
   "id": "1be879b9",
   "metadata": {},
   "source": [
    "# 5) Write a program to store the weekdays in a list and access the week day and print it by index.\n"
   ]
  },
  {
   "cell_type": "code",
   "execution_count": 25,
   "id": "3eb437fb",
   "metadata": {},
   "outputs": [
    {
     "name": "stdout",
     "output_type": "stream",
     "text": [
      "please enter the index number5\n",
      "friday\n"
     ]
    }
   ],
   "source": [
    "week_day=[\"sunday\",\"monday\",\"tuesday\",\"wednesday\",\"thursday\",\"friday\",\"saturday\"]\n",
    "x=int(input(\"please enter the index number\"))\n",
    "print(week_day[x])"
   ]
  },
  {
   "cell_type": "markdown",
   "id": "7aed8888",
   "metadata": {},
   "source": [
    "# 6)Write a program to store numbers in the List and print its reverse\n"
   ]
  },
  {
   "cell_type": "code",
   "execution_count": 28,
   "id": "cdcefcf9",
   "metadata": {},
   "outputs": [
    {
     "name": "stdout",
     "output_type": "stream",
     "text": [
      "enter a list in this form 1,2,3,41,2,3,4,5\n",
      "['1', '2', '3', '4', '5']\n",
      "list1 in reverse=\n",
      "['5', '4', '3', '2', '1']\n"
     ]
    }
   ],
   "source": [
    "list1=[]\n",
    "list1=input(\"enter a list in this form 1,2,3,4\").split(\",\")\n",
    "print(list1)\n",
    "print(\"list1 in reverse=\")\n",
    "print(list1[::-1])\n"
   ]
  },
  {
   "cell_type": "markdown",
   "id": "bbed7ad5",
   "metadata": {},
   "source": [
    "# 7) Write a program to print the multiplcation table of any number\n"
   ]
  },
  {
   "cell_type": "code",
   "execution_count": 6,
   "id": "da3a87b9",
   "metadata": {},
   "outputs": [
    {
     "name": "stdout",
     "output_type": "stream",
     "text": [
      "please enter a number2\n",
      "2,4,6,8,10,12,14,16,18,20,22,24,"
     ]
    }
   ],
   "source": [
    "x=int(input(\"please enter a number\"))\n",
    "y=1\n",
    "while y<13:\n",
    "    z=x*y\n",
    "    print(z,end=\",\")\n",
    "    y+=1"
   ]
  },
  {
   "cell_type": "markdown",
   "id": "6c3ae3c0",
   "metadata": {},
   "source": [
    "# 8) Write a program to print all even numbers between 1 to 100.(using while loop and for loop)\n",
    "Double-click (or enter) to edit\n",
    "\n"
   ]
  },
  {
   "cell_type": "code",
   "execution_count": 10,
   "id": "a7d73932",
   "metadata": {},
   "outputs": [
    {
     "name": "stdout",
     "output_type": "stream",
     "text": [
      "0\n",
      "2\n",
      "4\n",
      "6\n",
      "8\n",
      "10\n",
      "12\n",
      "14\n",
      "16\n",
      "18\n",
      "20\n",
      "22\n",
      "24\n",
      "26\n",
      "28\n",
      "30\n",
      "32\n",
      "34\n",
      "36\n",
      "38\n",
      "40\n",
      "42\n",
      "44\n",
      "46\n",
      "48\n",
      "50\n",
      "52\n",
      "54\n",
      "56\n",
      "58\n",
      "60\n",
      "62\n",
      "64\n",
      "66\n",
      "68\n",
      "70\n",
      "72\n",
      "74\n",
      "76\n",
      "78\n",
      "80\n",
      "82\n",
      "84\n",
      "86\n",
      "88\n",
      "90\n",
      "92\n",
      "94\n",
      "96\n",
      "98\n"
     ]
    }
   ],
   "source": [
    "i=0\n",
    "while i<100:\n",
    "    if i%2==0:\n",
    "        print(i)\n",
    "    i+=1"
   ]
  },
  {
   "cell_type": "code",
   "execution_count": 13,
   "id": "87760151",
   "metadata": {},
   "outputs": [
    {
     "name": "stdout",
     "output_type": "stream",
     "text": [
      "0\n",
      "2\n",
      "4\n",
      "6\n",
      "8\n",
      "10\n",
      "12\n",
      "14\n",
      "16\n",
      "18\n",
      "20\n",
      "22\n",
      "24\n",
      "26\n",
      "28\n",
      "30\n",
      "32\n",
      "34\n",
      "36\n",
      "38\n",
      "40\n",
      "42\n",
      "44\n",
      "46\n",
      "48\n",
      "50\n",
      "52\n",
      "54\n",
      "56\n",
      "58\n",
      "60\n",
      "62\n",
      "64\n",
      "66\n",
      "68\n",
      "70\n",
      "72\n",
      "74\n",
      "76\n",
      "78\n",
      "80\n",
      "82\n",
      "84\n",
      "86\n",
      "88\n",
      "90\n",
      "92\n",
      "94\n",
      "96\n",
      "98\n"
     ]
    }
   ],
   "source": [
    "for i in range(100):\n",
    "    if i%2==0:\n",
    "        print(i)   "
   ]
  },
  {
   "cell_type": "code",
   "execution_count": null,
   "id": "a0451bc9",
   "metadata": {},
   "outputs": [],
   "source": []
  }
 ],
 "metadata": {
  "kernelspec": {
   "display_name": "Python 3 (ipykernel)",
   "language": "python",
   "name": "python3"
  },
  "language_info": {
   "codemirror_mode": {
    "name": "ipython",
    "version": 3
   },
   "file_extension": ".py",
   "mimetype": "text/x-python",
   "name": "python",
   "nbconvert_exporter": "python",
   "pygments_lexer": "ipython3",
   "version": "3.11.4"
  }
 },
 "nbformat": 4,
 "nbformat_minor": 5
}
